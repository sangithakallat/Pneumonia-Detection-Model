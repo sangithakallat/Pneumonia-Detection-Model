{
 "cells": [
  {
   "cell_type": "code",
   "execution_count": 1,
   "id": "5bbc9662",
   "metadata": {},
   "outputs": [
    {
     "name": "stdout",
     "output_type": "stream",
     "text": [
      "Found 4192 images belonging to 2 classes.\n",
      "Found 1040 images belonging to 2 classes.\n",
      "Epoch 41/45\n",
      "262/262 [==============================] - 1010s 4s/step - loss: 0.0772 - accuracy: 0.9709 - val_loss: 0.0970 - val_accuracy: 0.9683\n",
      "Epoch 42/45\n",
      "262/262 [==============================] - 1075s 4s/step - loss: 0.0654 - accuracy: 0.9759 - val_loss: 0.1283 - val_accuracy: 0.9529\n",
      "Epoch 43/45\n",
      "262/262 [==============================] - 865s 3s/step - loss: 0.0805 - accuracy: 0.9678 - val_loss: 0.1113 - val_accuracy: 0.9615\n",
      "Epoch 44/45\n",
      "262/262 [==============================] - 875s 3s/step - loss: 0.0615 - accuracy: 0.9745 - val_loss: 0.1007 - val_accuracy: 0.9615\n",
      "Epoch 45/45\n",
      "262/262 [==============================] - 876s 3s/step - loss: 0.0826 - accuracy: 0.9716 - val_loss: 0.1014 - val_accuracy: 0.9615\n"
     ]
    }
   ],
   "source": [
    "import numpy as np\n",
    "import matplotlib.pyplot as plt\n",
    "from tensorflow.keras.preprocessing.image import ImageDataGenerator\n",
    "from tensorflow.keras.models import load_model\n",
    "from tensorflow.keras.layers import Conv2D, MaxPooling2D, Flatten, Dense\n",
    "\n",
    "# Set the image dimensions\n",
    "img_width, img_height = 224, 224\n",
    "\n",
    "# Set the paths to your training and validation data\n",
    "train_data_dir = r'C:\\Users\\Admin\\Documents\\SEM3\\Project\\Pneumonia X-Ray Images\\train_data'\n",
    "validation_data_dir = r'C:\\Users\\Admin\\Documents\\SEM3\\Project\\Pneumonia X-Ray Images\\val'\n",
    "\n",
    "# Set the number of samples and epochs\n",
    "nb_train_samples = 4192\n",
    "nb_validation_samples = 1040\n",
    "epochs = 45  # Change this to 50 for 50 total epochs\n",
    "batch_size = 16\n",
    "\n",
    "# Data preprocessing and augmentation\n",
    "train_datagen = ImageDataGenerator(rescale=1./255, shear_range=0.2, zoom_range=0.2, horizontal_flip=True)\n",
    "validation_datagen = ImageDataGenerator(rescale=1./255)\n",
    "\n",
    "train_generator = train_datagen.flow_from_directory(train_data_dir, target_size=(img_width, img_height), batch_size=batch_size, class_mode='binary')\n",
    "\n",
    "validation_generator = validation_datagen.flow_from_directory(validation_data_dir, target_size=(img_width, img_height), batch_size=batch_size, class_mode='binary')\n",
    "\n",
    "# Load the previously trained model\n",
    "model = load_model('C:/Users/Admin/Documents/SEM3/Project/Models/model4.keras')\n",
    "\n",
    "# Compile the model (if not compiled previously)\n",
    "model.compile(loss='binary_crossentropy', optimizer='adam', metrics=['accuracy'])\n",
    "\n",
    "# Fine-tuning the model\n",
    "history = model.fit(\n",
    "    train_generator,\n",
    "    steps_per_epoch=nb_train_samples // batch_size,\n",
    "    epochs=epochs,\n",
    "    validation_data=validation_generator,\n",
    "    validation_steps=nb_validation_samples // batch_size,\n",
    "    initial_epoch=40  # Continue training from the 41st epoch (since it was previously trained for 40 epochs)\n",
    ")\n",
    "\n",
    "# Save the fine-tuned model\n",
    "model.save('C:/Users/Admin/Documents/SEM3/Project/Models/model4_fine_tuned_45.keras')\n"
   ]
  },
  {
   "cell_type": "code",
   "execution_count": null,
   "id": "b28b10ca",
   "metadata": {},
   "outputs": [],
   "source": []
  }
 ],
 "metadata": {
  "kernelspec": {
   "display_name": "Python 3 (ipykernel)",
   "language": "python",
   "name": "python3"
  },
  "language_info": {
   "codemirror_mode": {
    "name": "ipython",
    "version": 3
   },
   "file_extension": ".py",
   "mimetype": "text/x-python",
   "name": "python",
   "nbconvert_exporter": "python",
   "pygments_lexer": "ipython3",
   "version": "3.11.4"
  }
 },
 "nbformat": 4,
 "nbformat_minor": 5
}
